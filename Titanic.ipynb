{
 "cells": [
  {
   "cell_type": "code",
   "execution_count": null,
   "metadata": {
    "collapsed": true
   },
   "outputs": [],
   "source": [
    "import numpy as np\n",
    "import pandas as pd\n",
    "import string\n",
    "import math\n",
    "import random\n",
    "from sklearn import svm\n",
    "from sklearn import ensemble\n",
    "import matplotlib.pyplot as plt\n",
    "plt.style.use('ggplot')\n",
    "import re"
   ]
  },
  {
   "cell_type": "code",
   "execution_count": null,
   "metadata": {},
   "outputs": [],
   "source": [
    "df = pd.read_csv(\"./data/train.csv\")\n",
    "result = pd.read_csv(\"./data/gender_submission.csv\")\n",
    "testing = pd.read_csv(\"./data/test.csv\")\n",
    "df.head(5)"
   ]
  },
  {
   "cell_type": "code",
   "execution_count": null,
   "metadata": {
    "collapsed": true
   },
   "outputs": [],
   "source": [
    "# Getting substring for title\n",
    "def getSubstring(string, substrings):\n",
    "    for s in substrings:\n",
    "        if string.find(s) != -1:\n",
    "            return s\n",
    "    return np.nan\n",
    "       \n",
    "\n",
    "# Replacing all titles with mr, mrs, miss, master\n",
    "def replace_titles(x):\n",
    "    title=x['Title']\n",
    "    if title in ['Don', 'Major', 'Capt', 'Jonkheer', 'Rev', 'Col']:\n",
    "        return 'Mr'\n",
    "    elif title in ['Countess', 'Mme']:\n",
    "        return 'Mrs'\n",
    "    elif title in ['Mlle', 'Ms']:\n",
    "        return 'Miss'\n",
    "    elif title =='Dr':\n",
    "        if x['Sex']=='Male':\n",
    "            return 'Mr'\n",
    "        else:\n",
    "            return 'Mrs'\n",
    "    else:\n",
    "        return title\n",
    "    \n",
    "# Replacing missing value for age \n",
    "def replace_ages(x, ageGroup):\n",
    "    age = x['Age']\n",
    "    if math.isnan(age):\n",
    "        return ageGroup[x['Pclass']][x['SibSp']]\n",
    "    else:\n",
    "        return age\n"
   ]
  },
  {
   "cell_type": "code",
   "execution_count": null,
   "metadata": {
    "collapsed": true
   },
   "outputs": [],
   "source": [
    "# Add columns of title and last name\n",
    "title_list=['Mrs', 'Mr', 'Master', 'Miss', 'Major', 'Rev',\n",
    "                    'Dr', 'Ms', 'Mlle','Col', 'Capt', 'Mme', 'Countess',\n",
    "                    'Don', 'Jonkheer'] \n",
    "df['Title'] = df['Name'].map(lambda x: getSubstring(x, title_list))\n",
    "df['Title'] = df.apply(replace_titles, axis = 1)\n",
    "# df['LastName'] = df['Name'].map(lambda x: x.split(',')[0])"
   ]
  },
  {
   "cell_type": "code",
   "execution_count": null,
   "metadata": {
    "collapsed": true
   },
   "outputs": [],
   "source": [
    "# np.unique(df['Pclass'])\n",
    "# np.unique(df['SibSp'])\n",
    "# # plt.plot(df[df['Pclass'] == 2 & df['SibSp'] == 2]['Age'])\n",
    "# a = df['Pclass'] == 0 \n",
    "# b = df['SibSp'] == 1\n",
    "# c = df['Age'].isnull() == False\n",
    "# d = a.tolist() and b.tolist() and c.tolist()\n",
    "# plt.hist(df[d]['Age'].tolist())\n",
    "# plt.show()\n"
   ]
  },
  {
   "cell_type": "code",
   "execution_count": null,
   "metadata": {
    "collapsed": true
   },
   "outputs": [],
   "source": [
    "# Fill the missing values, take the median\n",
    "ageGroup = df.groupby(['Pclass', 'SibSp'])['Age'].median()\n",
    "ageGroup[3][8] = df['Age'][df['Pclass'] == 3].median()\n",
    "df['Age'] = df.apply(lambda x: replace_ages(x, ageGroup), axis = 1)"
   ]
  },
  {
   "cell_type": "code",
   "execution_count": null,
   "metadata": {
    "collapsed": true
   },
   "outputs": [],
   "source": [
    "df.isnull().any()"
   ]
  },
  {
   "cell_type": "code",
   "execution_count": null,
   "metadata": {},
   "outputs": [],
   "source": [
    "# Replace carbin number, sepatared it into two preditors: Cabin and Cabin number\n",
    "pattern = '([A-Z]+)([0-9]*)'\n",
    "int(re.search(pattern, 'C85').group(2))\n",
    "def replaceCabinNum(name):\n",
    "    pattern = '([A-Z]+)([0-9]*)'\n",
    "    num = re.search(pattern, name).group(2)\n",
    "    if (num == ''):\n",
    "        return 0\n",
    "    else:\n",
    "        return(int(num))\n",
    "    \n",
    "cabin_null = df['Cabin'].isnull()\n",
    "cabin_list = [i for i in range(0, len(df['Cabin'])) if cabin_null[i] == False]\n",
    "df['Cabin_Al'] = 'Unknown'\n",
    "df['Cabin_Al'][cabin_list] = df['Cabin'][cabin_list].map(lambda x: re.search(pattern, x).group(1))\n",
    "df['Cabin_num'] = 0\n",
    "df['Cabin_num'][cabin_list] = df['Cabin'][cabin_list].apply(replaceCabinNum)\n"
   ]
  },
  {
   "cell_type": "code",
   "execution_count": null,
   "metadata": {
    "collapsed": true
   },
   "outputs": [],
   "source": [
    "# Embark only 2 missing values (You can try to replace them)\n",
    "df = df[df['Embarked'].isnull() == False]\n",
    "df = df.reset_index(drop=True)"
   ]
  },
  {
   "cell_type": "code",
   "execution_count": null,
   "metadata": {},
   "outputs": [],
   "source": [
    "# Check the relationship between family size and survival rate\n",
    "df['Famiy_size'] = df['SibSp'] + df['Parch']\n",
    "df['Single'] = (df['Famiy_size'] == 1).astype('int')\n",
    "df.groupby(['Famiy_size'])['Survived'].mean()"
   ]
  },
  {
   "cell_type": "code",
   "execution_count": null,
   "metadata": {
    "collapsed": true
   },
   "outputs": [],
   "source": [
    "# Reassign the family size\n",
    "def checkFamilySize(x):\n",
    "    famSize = x['Famiy_size']\n",
    "    if famSize == 0:\n",
    "        return 'Single'\n",
    "    elif famSize == 1:\n",
    "        if (x['SibSp'] == 1):\n",
    "            return 'Couple'\n",
    "        else:\n",
    "            return 'Small'\n",
    "    elif famSize <= 3:\n",
    "        return 'Small'\n",
    "    elif famSize <= 6:\n",
    "        return 'Median'\n",
    "    else:\n",
    "        return 'Large'\n",
    "\n",
    "df['Family'] = df.apply(checkFamilySize, axis = 1)"
   ]
  },
  {
   "cell_type": "code",
   "execution_count": null,
   "metadata": {},
   "outputs": [],
   "source": [
    "# Check relationship between fare and survival rate\n",
    "df['FareGroup'] = df['Fare'].map(lambda x: int(x/10) * 10)\n",
    "fare = df.groupby(['FareGroup'])['Survived'].mean()\n",
    "fare\n",
    "# plt.plot(fare)\n",
    "# plt.show()\n",
    "# [i for i in range(0, len(fare)) if fare.iloc[i] == 0.5]"
   ]
  },
  {
   "cell_type": "code",
   "execution_count": null,
   "metadata": {
    "collapsed": true
   },
   "outputs": [],
   "source": [
    "\n",
    "def checkFare(x):\n",
    "    if x <= 40:\n",
    "        return 'cheap'\n",
    "    elif x <= 100:\n",
    "        return 'middle'\n",
    "    else:\n",
    "        return 'expensive'\n",
    "df['FareGroup'] = df['FareGroup'].map(checkFare)\n"
   ]
  },
  {
   "cell_type": "code",
   "execution_count": null,
   "metadata": {},
   "outputs": [],
   "source": [
    "df['AgeGroup'] = df['Age'].map(lambda x: int(x/5) * 5)\n",
    "age = df.groupby(['AgeGroup'])['Survived'].mean()\n",
    "np.unique(df['Pclass'])\n",
    "df.head(3)"
   ]
  },
  {
   "cell_type": "code",
   "execution_count": null,
   "metadata": {
    "collapsed": true
   },
   "outputs": [],
   "source": [
    "# Deal with the categorical data\n",
    "df['Sex_male'] = (df['Sex'] == 'male').astype('int')\n",
    "df['Title_Master'] = (df['Title'] == 'Master').astype('int')\n",
    "df['Title_Miss'] = (df['Title'] == 'Miss').astype('int')\n",
    "df['Title_Mr'] = (df['Title'] == 'Mr').astype('int')\n",
    "df['Title_Mrs'] = (df['Title'] == 'Mrs').astype('int')\n",
    "df['Cabin_A'] = (df['Cabin_Al'] == 'A').astype('int')\n",
    "df['Cabin_B'] = (df['Cabin_Al'] == 'B').astype('int')\n",
    "df['Cabin_C'] = (df['Cabin_Al'] == 'C').astype('int')\n",
    "df['Cabin_D'] = (df['Cabin_Al'] == 'D').astype('int')\n",
    "df['Cabin_E'] = (df['Cabin_Al'] == 'E').astype('int')\n",
    "df['Cabin_F'] = (df['Cabin_Al'] == 'F').astype('int')\n",
    "df['Cabin_G'] = (df['Cabin_Al'] == 'G').astype('int')\n",
    "df['Cabin_T'] = (df['Cabin_Al'] == 'T').astype('int')\n",
    "df['Cabin_Unknown'] = (df['Cabin_Al'] == 'Unknown').astype('int')\n",
    "df['Embarked_C'] = (df['Embarked'] == 'C').astype('int')\n",
    "df['Embarked_Q'] = (df['Embarked'] == 'Q').astype('int')\n",
    "df['Embarked_S'] = (df['Embarked'] == 'S').astype('int')\n",
    "df['Single'] = (df['Family'] == 'Single').astype('int')\n",
    "df['Couple'] = (df['Family'] == 'Couple').astype('int')\n",
    "df['SmallFamily'] = (df['Family'] == 'Small').astype('int')\n",
    "df['MedianFamily'] = (df['Family'] == 'Median').astype('int')\n",
    "df['LargeFamily'] = (df['Family'] == 'Large').astype('int')\n",
    "df['Infant'] = (df['Age'] < 1).astype('int')\n",
    "df['Elder'] = (df['Age'] > 60).astype('int')\n",
    "df['Fare_low'] = (df['FareGroup'] == 'cheap').astype('int')\n",
    "df['Fare_median'] = (df['FareGroup'] == 'middle').astype('int')\n",
    "df['Fare_high'] = (df['FareGroup'] == 'expensive').astype('int')\n",
    "df['Pclass_1'] = (df['Pclass'] == 1).astype('int')\n",
    "df['Pclass_2'] = (df['Pclass'] == 2).astype('int')\n",
    "df['Pclass_3'] = (df['Pclass'] == 3).astype('int')"
   ]
  },
  {
   "cell_type": "code",
   "execution_count": null,
   "metadata": {},
   "outputs": [],
   "source": [
    "sum(df['LargeFamily'] == 1)"
   ]
  },
  {
   "cell_type": "code",
   "execution_count": null,
   "metadata": {},
   "outputs": [],
   "source": [
    "# drop the unnecessary columns\n",
    "data = df.drop(['PassengerId', 'Name', 'Ticket', 'Cabin', 'Embarked', 'Sex', 'Title', 'Cabin_Al', 'Family', 'Famiy_size',\n",
    "               'SibSp', 'Parch', 'Pclass', 'FareGroup', 'Age', 'AgeGroup', 'Survived'], axis = 1)\n",
    "response = df['Survived']\n",
    "data.head(3)"
   ]
  },
  {
   "cell_type": "code",
   "execution_count": null,
   "metadata": {
    "collapsed": true
   },
   "outputs": [],
   "source": [
    "# perform cross validation, 5 folds\n",
    "cv_id = []\n",
    "for i in range(0, 5):\n",
    "    cv_id.extend([i] * 177)\n",
    "cv_id.extend([0] * 4) \n",
    "random.shuffle(cv_id)"
   ]
  },
  {
   "cell_type": "code",
   "execution_count": null,
   "metadata": {},
   "outputs": [],
   "source": [
    "# cross validation \n",
    "rate = []\n",
    "for i in range(0,5):\n",
    "    train_index = [index for index in range(0, len(df)) if cv_id[index] != i]\n",
    "    test_index = [index for index in range(0, len(df)) if cv_id[index] == i]\n",
    "    train = data.iloc[train_index]\n",
    "    train_response = response.iloc[train_index]\n",
    "    test = data.iloc[test_index]\n",
    "    test_response = response.iloc[test_index]\n",
    "#     clf = svm.LinearSVC(penalty='l2', loss='squared_hinge', dual=True, tol=1e-5)\n",
    "    clf = ensemble.RandomForestClassifier(n_estimators = 10)\n",
    "    clf.fit(train, train_response)\n",
    "    pred = clf.predict(test)\n",
    "    rate.append(sum(pred == test_response) / len(test_response))\n",
    "np.mean(rate)\n",
    "    \n",
    "    \n",
    "\n",
    "    "
   ]
  },
  {
   "cell_type": "code",
   "execution_count": null,
   "metadata": {
    "collapsed": true
   },
   "outputs": [],
   "source": []
  },
  {
   "cell_type": "code",
   "execution_count": null,
   "metadata": {
    "collapsed": true
   },
   "outputs": [],
   "source": []
  },
  {
   "cell_type": "code",
   "execution_count": null,
   "metadata": {
    "collapsed": true
   },
   "outputs": [],
   "source": []
  }
 ],
 "metadata": {
  "kernelspec": {
   "display_name": "Python 3",
   "language": "python",
   "name": "python3"
  },
  "language_info": {
   "codemirror_mode": {
    "name": "ipython",
    "version": 3
   },
   "file_extension": ".py",
   "mimetype": "text/x-python",
   "name": "python",
   "nbconvert_exporter": "python",
   "pygments_lexer": "ipython3",
   "version": "3.6.1"
  }
 },
 "nbformat": 4,
 "nbformat_minor": 1
}
