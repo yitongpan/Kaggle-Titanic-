{
 "cells": [
  {
   "cell_type": "code",
   "execution_count": null,
   "metadata": {
    "collapsed": false
   },
   "outputs": [],
   "source": [
    "import numpy as np\n",
    "import pandas as pd\n",
    "import string\n",
    "import math\n",
    "import random\n",
    "from sklearn import svm\n",
    "from sklearn import ensemble\n",
    "import matplotlib.pyplot as plt\n",
    "plt.style.use('ggplot')"
   ]
  },
  {
   "cell_type": "code",
   "execution_count": null,
   "metadata": {
    "collapsed": false
   },
   "outputs": [],
   "source": [
    "df = pd.read_csv(\"/Users/Ellie/Documents/Kaggle/Titanic/train.csv\")\n",
    "result = pd.read_csv(\"/Users/Ellie/Documents/Kaggle/Titanic/gender_submission.csv\")\n",
    "testing = pd.read_csv(\"/Users/Ellie/Documents/Kaggle/Titanic/test.csv\")\n",
    "df.head(5)"
   ]
  },
  {
   "cell_type": "code",
   "execution_count": null,
   "metadata": {
    "collapsed": true
   },
   "outputs": [],
   "source": [
    "# Getting substring for title\n",
    "def getSubstring(string, substrings):\n",
    "    for s in substrings:\n",
    "        if string.find(s) != -1:\n",
    "            return s\n",
    "    return np.nan\n",
    "       \n",
    "\n",
    "# Replacing all titles with mr, mrs, miss, master\n",
    "def replace_titles(x):\n",
    "    title = x['Title']\n",
    "    if title in ['Don', 'Major', 'Capt', 'Jonkheer', 'Rev', 'Col']:\n",
    "        return 'Mr'\n",
    "    elif title in ['Countess', 'Mme']:\n",
    "        return 'Mrs'\n",
    "    elif title in ['Mlle', 'Ms']:\n",
    "        return 'Miss'\n",
    "    elif title =='Dr':\n",
    "        if x['Sex']=='Male':\n",
    "            return 'Mr'\n",
    "        else:\n",
    "            return 'Mrs'\n",
    "    else:\n",
    "        return title\n",
    "    \n",
    "# Replacing missing value for age \n",
    "def replace_ages(x, ageGroup):\n",
    "    age = x['Age']\n",
    "    if math.isnan(age):\n",
    "        return ageGroup[x['Pclass']][x['SibSp']]\n",
    "    else:\n",
    "        return age\n"
   ]
  },
  {
   "cell_type": "code",
   "execution_count": null,
   "metadata": {
    "collapsed": false
   },
   "outputs": [],
   "source": [
    "title_list=['Mrs', 'Mr', 'Master', 'Miss', 'Major', 'Rev',\n",
    "                    'Dr', 'Ms', 'Mlle','Col', 'Capt', 'Mme', 'Countess',\n",
    "                    'Don', 'Jonkheer'] \n",
    "df['Title'] = df['Name'].map(lambda x: getSubstring(x, title_list))\n",
    "df['Title'] = df.apply(replace_titles, axis = 1)\n",
    "df['LastName'] = df['Name'].split(',')[1]"
   ]
  },
  {
   "cell_type": "code",
   "execution_count": null,
   "metadata": {
    "collapsed": false
   },
   "outputs": [],
   "source": [
    "# Fill the missing values\n",
    "ageGroup = df.groupby(['Pclass', 'SibSp'])['Age'].mean()\n",
    "ageGroup[3][8] = df['Age'][df['Pclass'] == 3].mean()\n",
    "df['Age'] = df.apply(lambda x: replace_ages(x, ageGroup), axis = 1)"
   ]
  },
  {
   "cell_type": "code",
   "execution_count": null,
   "metadata": {
    "collapsed": false
   },
   "outputs": [],
   "source": [
    "df.isnull().any()\n",
    "df['Name'].split(',')[1]"
   ]
  },
  {
   "cell_type": "code",
   "execution_count": null,
   "metadata": {
    "collapsed": false
   },
   "outputs": [],
   "source": [
    "# Replace carbin number\n",
    "cabin_null = df['Cabin'].isnull()\n",
    "cabin_list = [i for i in range(0, len(df['Cabin'])) if cabin_null[i] == True]\n",
    "# df['Cabin'][cabin_list] = 'Unknown'\n",
    "# cabin_list = ['A', 'B', 'C', 'D', 'E', 'F', 'T', 'G', 'Unknown']\n",
    "# df['Cabin']=df['Cabin'].map(lambda x: getSubstring(x, cabin_list))"
   ]
  },
  {
   "cell_type": "code",
   "execution_count": null,
   "metadata": {
    "collapsed": false
   },
   "outputs": [],
   "source": [
    "# Embark only 2 missing values\n",
    "df = df[df['Embarked'].isnull() == False]\n",
    "df = df.reset_index(drop=True)"
   ]
  },
  {
   "cell_type": "code",
   "execution_count": null,
   "metadata": {
    "collapsed": false
   },
   "outputs": [],
   "source": [
    "# Deal with the categorical data\n",
    "df['Sex_male'] = (df['Sex'] == 'male').astype('int')\n",
    "df['Title_Master'] = (df['Title'] == 'Master').astype('int')\n",
    "df['Title_Miss'] = (df['Title'] == 'Miss').astype('int')\n",
    "df['Title_Mr'] = (df['Title'] == 'Mr').astype('int')\n",
    "df['Title_Mrs'] = (df['Title'] == 'Mrs').astype('int')\n",
    "df['Cabin_A'] = (df['Cabin'] == 'A').astype('int')\n",
    "df['Cabin_B'] = (df['Cabin'] == 'B').astype('int')\n",
    "df['Cabin_C'] = (df['Cabin'] == 'C').astype('int')\n",
    "df['Cabin_D'] = (df['Cabin'] == 'D').astype('int')\n",
    "df['Cabin_E'] = (df['Cabin'] == 'E').astype('int')\n",
    "df['Cabin_F'] = (df['Cabin'] == 'F').astype('int')\n",
    "df['Cabin_G'] = (df['Cabin'] == 'G').astype('int')\n",
    "df['Cabin_T'] = (df['Cabin'] == 'T').astype('int')\n",
    "df['Cabin_Unknown'] = (df['Cabin'] == 'Unknown').astype('int')\n",
    "df['Embarked_C'] = (df['Embarked'] == 'C').astype('int')\n",
    "df['Embarked_Q'] = (df['Embarked'] == 'Q').astype('int')\n",
    "df['Embarked_S'] = (df['Embarked'] == 'S').astype('int')\n"
   ]
  },
  {
   "cell_type": "code",
   "execution_count": null,
   "metadata": {
    "collapsed": false
   },
   "outputs": [],
   "source": [
    "# drop the unnecessary columns\n",
    "data = df.drop(['PassengerId', 'Name', 'Ticket', 'Cabin', 'Embarked', 'Sex', 'Survived', 'Title'], axis = 1)\n",
    "response = df['Survived']"
   ]
  },
  {
   "cell_type": "code",
   "execution_count": null,
   "metadata": {
    "collapsed": false
   },
   "outputs": [],
   "source": [
    "# perform cross validation, 5 folds\n",
    "cv_id = []\n",
    "for i in range(0, 5):\n",
    "    cv_id.extend([i] * 177)\n",
    "cv_id.extend([0] * 4) \n",
    "random.shuffle(cv_id)"
   ]
  },
  {
   "cell_type": "code",
   "execution_count": null,
   "metadata": {
    "collapsed": false
   },
   "outputs": [],
   "source": [
    "# cross validation \n",
    "rate = []\n",
    "for i in range(0,5):\n",
    "    train_index = [index for index in range(0, len(df)) if cv_id[index] != i]\n",
    "    test_index = [index for index in range(0, len(df)) if cv_id[index] == i]\n",
    "    train = data.iloc[train_index]\n",
    "    train_response = response.iloc[train_index]\n",
    "    test = data.iloc[test_index]\n",
    "    test_response = response.iloc[test_index]\n",
    "#     clf = svm.LinearSVC(penalty='l2', loss='squared_hinge', dual=True, tol=1e-5)\n",
    "    clf = ensemble.RandomForestClassifier(n_estimators = 10)\n",
    "    clf.fit(train, train_response)\n",
    "    pred = clf.predict(test)\n",
    "    rate.append(sum(pred == test_response) / len(test_response))\n",
    "np.mean(rate)\n",
    "    \n",
    "    \n",
    "\n",
    "    "
   ]
  },
  {
   "cell_type": "code",
   "execution_count": null,
   "metadata": {
    "collapsed": false
   },
   "outputs": [],
   "source": [
    "rate"
   ]
  },
  {
   "cell_type": "code",
   "execution_count": null,
   "metadata": {
    "collapsed": true
   },
   "outputs": [],
   "source": []
  }
 ],
 "metadata": {
  "kernelspec": {
   "display_name": "Python 3",
   "language": "python",
   "name": "python3"
  },
  "language_info": {
   "codemirror_mode": {
    "name": "ipython",
    "version": 3
   },
   "file_extension": ".py",
   "mimetype": "text/x-python",
   "name": "python",
   "nbconvert_exporter": "python",
   "pygments_lexer": "ipython3",
   "version": "3.5.1"
  }
 },
 "nbformat": 4,
 "nbformat_minor": 0
}
