{
 "cells": [
  {
   "cell_type": "code",
   "execution_count": 243,
   "metadata": {
    "collapsed": false
   },
   "outputs": [],
   "source": [
    "import numpy as np\n",
    "import pandas as pd\n",
    "import string\n",
    "import math\n",
    "import random\n",
    "from sklearn import svm\n",
    "from sklearn import ensemble\n",
    "import matplotlib.pyplot as plt\n",
    "plt.style.use('ggplot')\n",
    "import re"
   ]
  },
  {
   "cell_type": "code",
   "execution_count": 244,
   "metadata": {
    "collapsed": false
   },
   "outputs": [
    {
     "data": {
      "text/html": [
       "<div>\n",
       "<table border=\"1\" class=\"dataframe\">\n",
       "  <thead>\n",
       "    <tr style=\"text-align: right;\">\n",
       "      <th></th>\n",
       "      <th>PassengerId</th>\n",
       "      <th>Survived</th>\n",
       "      <th>Pclass</th>\n",
       "      <th>Name</th>\n",
       "      <th>Sex</th>\n",
       "      <th>Age</th>\n",
       "      <th>SibSp</th>\n",
       "      <th>Parch</th>\n",
       "      <th>Ticket</th>\n",
       "      <th>Fare</th>\n",
       "      <th>Cabin</th>\n",
       "      <th>Embarked</th>\n",
       "    </tr>\n",
       "  </thead>\n",
       "  <tbody>\n",
       "    <tr>\n",
       "      <th>0</th>\n",
       "      <td>1</td>\n",
       "      <td>0</td>\n",
       "      <td>3</td>\n",
       "      <td>Braund, Mr. Owen Harris</td>\n",
       "      <td>male</td>\n",
       "      <td>22.0</td>\n",
       "      <td>1</td>\n",
       "      <td>0</td>\n",
       "      <td>A/5 21171</td>\n",
       "      <td>7.2500</td>\n",
       "      <td>NaN</td>\n",
       "      <td>S</td>\n",
       "    </tr>\n",
       "    <tr>\n",
       "      <th>1</th>\n",
       "      <td>2</td>\n",
       "      <td>1</td>\n",
       "      <td>1</td>\n",
       "      <td>Cumings, Mrs. John Bradley (Florence Briggs Th...</td>\n",
       "      <td>female</td>\n",
       "      <td>38.0</td>\n",
       "      <td>1</td>\n",
       "      <td>0</td>\n",
       "      <td>PC 17599</td>\n",
       "      <td>71.2833</td>\n",
       "      <td>C85</td>\n",
       "      <td>C</td>\n",
       "    </tr>\n",
       "    <tr>\n",
       "      <th>2</th>\n",
       "      <td>3</td>\n",
       "      <td>1</td>\n",
       "      <td>3</td>\n",
       "      <td>Heikkinen, Miss. Laina</td>\n",
       "      <td>female</td>\n",
       "      <td>26.0</td>\n",
       "      <td>0</td>\n",
       "      <td>0</td>\n",
       "      <td>STON/O2. 3101282</td>\n",
       "      <td>7.9250</td>\n",
       "      <td>NaN</td>\n",
       "      <td>S</td>\n",
       "    </tr>\n",
       "    <tr>\n",
       "      <th>3</th>\n",
       "      <td>4</td>\n",
       "      <td>1</td>\n",
       "      <td>1</td>\n",
       "      <td>Futrelle, Mrs. Jacques Heath (Lily May Peel)</td>\n",
       "      <td>female</td>\n",
       "      <td>35.0</td>\n",
       "      <td>1</td>\n",
       "      <td>0</td>\n",
       "      <td>113803</td>\n",
       "      <td>53.1000</td>\n",
       "      <td>C123</td>\n",
       "      <td>S</td>\n",
       "    </tr>\n",
       "    <tr>\n",
       "      <th>4</th>\n",
       "      <td>5</td>\n",
       "      <td>0</td>\n",
       "      <td>3</td>\n",
       "      <td>Allen, Mr. William Henry</td>\n",
       "      <td>male</td>\n",
       "      <td>35.0</td>\n",
       "      <td>0</td>\n",
       "      <td>0</td>\n",
       "      <td>373450</td>\n",
       "      <td>8.0500</td>\n",
       "      <td>NaN</td>\n",
       "      <td>S</td>\n",
       "    </tr>\n",
       "  </tbody>\n",
       "</table>\n",
       "</div>"
      ],
      "text/plain": [
       "   PassengerId  Survived  Pclass  \\\n",
       "0            1         0       3   \n",
       "1            2         1       1   \n",
       "2            3         1       3   \n",
       "3            4         1       1   \n",
       "4            5         0       3   \n",
       "\n",
       "                                                Name     Sex   Age  SibSp  \\\n",
       "0                            Braund, Mr. Owen Harris    male  22.0      1   \n",
       "1  Cumings, Mrs. John Bradley (Florence Briggs Th...  female  38.0      1   \n",
       "2                             Heikkinen, Miss. Laina  female  26.0      0   \n",
       "3       Futrelle, Mrs. Jacques Heath (Lily May Peel)  female  35.0      1   \n",
       "4                           Allen, Mr. William Henry    male  35.0      0   \n",
       "\n",
       "   Parch            Ticket     Fare Cabin Embarked  \n",
       "0      0         A/5 21171   7.2500   NaN        S  \n",
       "1      0          PC 17599  71.2833   C85        C  \n",
       "2      0  STON/O2. 3101282   7.9250   NaN        S  \n",
       "3      0            113803  53.1000  C123        S  \n",
       "4      0            373450   8.0500   NaN        S  "
      ]
     },
     "execution_count": 244,
     "metadata": {},
     "output_type": "execute_result"
    }
   ],
   "source": [
    "df = pd.read_csv(\"/Users/Ellie/Documents/Kaggle/Titanic/train.csv\")\n",
    "result = pd.read_csv(\"/Users/Ellie/Documents/Kaggle/Titanic/gender_submission.csv\")\n",
    "testing = pd.read_csv(\"/Users/Ellie/Documents/Kaggle/Titanic/test.csv\")\n",
    "df.head(5)"
   ]
  },
  {
   "cell_type": "code",
   "execution_count": 245,
   "metadata": {
    "collapsed": true
   },
   "outputs": [],
   "source": [
    "# Getting substring for title\n",
    "def getSubstring(string, substrings):\n",
    "    for s in substrings:\n",
    "        if string.find(s) != -1:\n",
    "            return s\n",
    "    return np.nan\n",
    "       \n",
    "\n",
    "# Replacing all titles with mr, mrs, miss, master\n",
    "def replace_titles(x):\n",
    "    title=x['Title']\n",
    "    if title in ['Don', 'Major', 'Capt', 'Jonkheer', 'Rev', 'Col']:\n",
    "        return 'Mr'\n",
    "    elif title in ['Countess', 'Mme']:\n",
    "        return 'Mrs'\n",
    "    elif title in ['Mlle', 'Ms']:\n",
    "        return 'Miss'\n",
    "    elif title =='Dr':\n",
    "        if x['Sex']=='Male':\n",
    "            return 'Mr'\n",
    "        else:\n",
    "            return 'Mrs'\n",
    "    else:\n",
    "        return title\n",
    "    \n",
    "# Replacing missing value for age \n",
    "def replace_ages(x, ageGroup):\n",
    "    age = x['Age']\n",
    "    if math.isnan(age):\n",
    "        return ageGroup[x['Pclass']][x['SibSp']]\n",
    "    else:\n",
    "        return age\n"
   ]
  },
  {
   "cell_type": "code",
   "execution_count": 246,
   "metadata": {
    "collapsed": false
   },
   "outputs": [],
   "source": [
    "# Add columns of title and last name\n",
    "title_list=['Mrs', 'Mr', 'Master', 'Miss', 'Major', 'Rev',\n",
    "                    'Dr', 'Ms', 'Mlle','Col', 'Capt', 'Mme', 'Countess',\n",
    "                    'Don', 'Jonkheer'] \n",
    "df['Title'] = df['Name'].map(lambda x: getSubstring(x, title_list))\n",
    "df['Title'] = df.apply(replace_titles, axis = 1)\n",
    "# df['LastName'] = df['Name'].map(lambda x: x.split(',')[0])"
   ]
  },
  {
   "cell_type": "code",
   "execution_count": 247,
   "metadata": {
    "collapsed": false
   },
   "outputs": [],
   "source": [
    "# np.unique(df['Pclass'])\n",
    "# np.unique(df['SibSp'])\n",
    "# # plt.plot(df[df['Pclass'] == 2 & df['SibSp'] == 2]['Age'])\n",
    "# a = df['Pclass'] == 0 \n",
    "# b = df['SibSp'] == 1\n",
    "# c = df['Age'].isnull() == False\n",
    "# d = a.tolist() and b.tolist() and c.tolist()\n",
    "# plt.hist(df[d]['Age'].tolist())\n",
    "# plt.show()\n"
   ]
  },
  {
   "cell_type": "code",
   "execution_count": 248,
   "metadata": {
    "collapsed": false
   },
   "outputs": [],
   "source": [
    "# Fill the missing values, take the median\n",
    "ageGroup = df.groupby(['Pclass', 'SibSp'])['Age'].median()\n",
    "ageGroup[3][8] = df['Age'][df['Pclass'] == 3].median()\n",
    "df['Age'] = df.apply(lambda x: replace_ages(x, ageGroup), axis = 1)"
   ]
  },
  {
   "cell_type": "code",
   "execution_count": 249,
   "metadata": {
    "collapsed": false
   },
   "outputs": [
    {
     "data": {
      "text/plain": [
       "PassengerId    False\n",
       "Survived       False\n",
       "Pclass         False\n",
       "Name           False\n",
       "Sex            False\n",
       "Age            False\n",
       "SibSp          False\n",
       "Parch          False\n",
       "Ticket         False\n",
       "Fare           False\n",
       "Cabin           True\n",
       "Embarked        True\n",
       "Title          False\n",
       "dtype: bool"
      ]
     },
     "execution_count": 249,
     "metadata": {},
     "output_type": "execute_result"
    }
   ],
   "source": [
    "df.isnull().any()"
   ]
  },
  {
   "cell_type": "code",
   "execution_count": 250,
   "metadata": {
    "collapsed": false
   },
   "outputs": [
    {
     "name": "stderr",
     "output_type": "stream",
     "text": [
      "/Users/Ellie/anaconda/lib/python3.5/site-packages/ipykernel/__main__.py:15: SettingWithCopyWarning: \n",
      "A value is trying to be set on a copy of a slice from a DataFrame\n",
      "\n",
      "See the caveats in the documentation: http://pandas.pydata.org/pandas-docs/stable/indexing.html#indexing-view-versus-copy\n",
      "/Users/Ellie/anaconda/lib/python3.5/site-packages/ipykernel/__main__.py:17: SettingWithCopyWarning: \n",
      "A value is trying to be set on a copy of a slice from a DataFrame\n",
      "\n",
      "See the caveats in the documentation: http://pandas.pydata.org/pandas-docs/stable/indexing.html#indexing-view-versus-copy\n"
     ]
    }
   ],
   "source": [
    "# Replace carbin number, sepatared it into two preditors: Cabin and Cabin number\n",
    "pattern = '([A-Z]+)([0-9]*)'\n",
    "int(re.search(pattern, 'C85').group(2))\n",
    "def replaceCabinNum(name):\n",
    "    pattern = '([A-Z]+)([0-9]*)'\n",
    "    num = re.search(pattern, name).group(2)\n",
    "    if (num == ''):\n",
    "        return 0\n",
    "    else:\n",
    "        return(int(num))\n",
    "    \n",
    "cabin_null = df['Cabin'].isnull()\n",
    "cabin_list = [i for i in range(0, len(df['Cabin'])) if cabin_null[i] == False]\n",
    "df['Cabin_Al'] = 'Unknown'\n",
    "df['Cabin_Al'][cabin_list] = df['Cabin'][cabin_list].map(lambda x: re.search(pattern, x).group(1))\n",
    "df['Cabin_num'] = 0\n",
    "df['Cabin_num'][cabin_list] = df['Cabin'][cabin_list].apply(replaceCabinNum)\n"
   ]
  },
  {
   "cell_type": "code",
   "execution_count": 251,
   "metadata": {
    "collapsed": false
   },
   "outputs": [],
   "source": [
    "# Embark only 2 missing values (You can try to replace them)\n",
    "df = df[df['Embarked'].isnull() == False]\n",
    "df = df.reset_index(drop=True)"
   ]
  },
  {
   "cell_type": "code",
   "execution_count": 252,
   "metadata": {
    "collapsed": false
   },
   "outputs": [
    {
     "data": {
      "text/plain": [
       "Famiy_size\n",
       "0     0.300935\n",
       "1     0.552795\n",
       "2     0.578431\n",
       "3     0.724138\n",
       "4     0.200000\n",
       "5     0.136364\n",
       "6     0.333333\n",
       "7     0.000000\n",
       "10    0.000000\n",
       "Name: Survived, dtype: float64"
      ]
     },
     "execution_count": 252,
     "metadata": {},
     "output_type": "execute_result"
    }
   ],
   "source": [
    "# Check the relationship between family size and survival rate\n",
    "df['Famiy_size'] = df['SibSp'] + df['Parch']\n",
    "df['Single'] = (df['Famiy_size'] == 1).astype('int')\n",
    "df.groupby(['Famiy_size'])['Survived'].mean()"
   ]
  },
  {
   "cell_type": "code",
   "execution_count": 326,
   "metadata": {
    "collapsed": false
   },
   "outputs": [],
   "source": [
    "# Reassign the family size\n",
    "def checkFamilySize(x):\n",
    "    famSize = x['Famiy_size']\n",
    "    if famSize == 0:\n",
    "        return 'Single'\n",
    "    elif famSize == 1:\n",
    "        if (x['SibSp'] == 1):\n",
    "            return 'Couple'\n",
    "        else:\n",
    "            return 'Small'\n",
    "    elif famSize <= 3:\n",
    "        return 'Small'\n",
    "    elif famSize <= 6:\n",
    "        return 'Median'\n",
    "    else:\n",
    "        return 'Large'\n",
    "\n",
    "df['Family'] = df.apply(checkFamilySize, axis = 1)"
   ]
  },
  {
   "cell_type": "code",
   "execution_count": 327,
   "metadata": {
    "collapsed": false
   },
   "outputs": [
    {
     "data": {
      "text/plain": [
       "FareGroup\n",
       "0      0.199405\n",
       "10     0.424581\n",
       "20     0.426471\n",
       "30     0.437500\n",
       "40     0.266667\n",
       "50     0.692308\n",
       "60     0.352941\n",
       "70     0.586207\n",
       "80     0.846154\n",
       "90     0.875000\n",
       "100    0.500000\n",
       "110    0.714286\n",
       "120    1.000000\n",
       "130    0.857143\n",
       "140    1.000000\n",
       "150    0.571429\n",
       "160    1.000000\n",
       "210    0.750000\n",
       "220    0.600000\n",
       "240    0.500000\n",
       "260    0.666667\n",
       "510    1.000000\n",
       "Name: Survived, dtype: float64"
      ]
     },
     "execution_count": 327,
     "metadata": {},
     "output_type": "execute_result"
    }
   ],
   "source": [
    "# Check relationship between fare and survival rate\n",
    "df['FareGroup'] = df['Fare'].map(lambda x: int(x/10) * 10)\n",
    "fare = df.groupby(['FareGroup'])['Survived'].mean()\n",
    "fare\n",
    "# plt.plot(fare)\n",
    "# plt.show()\n",
    "# [i for i in range(0, len(fare)) if fare.iloc[i] == 0.5]"
   ]
  },
  {
   "cell_type": "code",
   "execution_count": 258,
   "metadata": {
    "collapsed": false
   },
   "outputs": [],
   "source": [
    "\n",
    "def checkFare(x):\n",
    "    if x <= 40:\n",
    "        return 'cheap'\n",
    "    elif x <= 100:\n",
    "        return 'middle'\n",
    "    else:\n",
    "        return 'expensive'\n",
    "df['FareGroup'] = df['FareGroup'].map(checkFare)\n"
   ]
  },
  {
   "cell_type": "code",
   "execution_count": 267,
   "metadata": {
    "collapsed": false
   },
   "outputs": [
    {
     "data": {
      "text/html": [
       "<div>\n",
       "<table border=\"1\" class=\"dataframe\">\n",
       "  <thead>\n",
       "    <tr style=\"text-align: right;\">\n",
       "      <th></th>\n",
       "      <th>PassengerId</th>\n",
       "      <th>Survived</th>\n",
       "      <th>Pclass</th>\n",
       "      <th>Name</th>\n",
       "      <th>Sex</th>\n",
       "      <th>Age</th>\n",
       "      <th>SibSp</th>\n",
       "      <th>Parch</th>\n",
       "      <th>Ticket</th>\n",
       "      <th>Fare</th>\n",
       "      <th>Cabin</th>\n",
       "      <th>Embarked</th>\n",
       "      <th>Title</th>\n",
       "      <th>Cabin_Al</th>\n",
       "      <th>Cabin_num</th>\n",
       "      <th>Famiy_size</th>\n",
       "      <th>Single</th>\n",
       "      <th>Family</th>\n",
       "      <th>FareGroup</th>\n",
       "      <th>AgeGroup</th>\n",
       "    </tr>\n",
       "  </thead>\n",
       "  <tbody>\n",
       "    <tr>\n",
       "      <th>0</th>\n",
       "      <td>1</td>\n",
       "      <td>0</td>\n",
       "      <td>3</td>\n",
       "      <td>Braund, Mr. Owen Harris</td>\n",
       "      <td>male</td>\n",
       "      <td>22.0</td>\n",
       "      <td>1</td>\n",
       "      <td>0</td>\n",
       "      <td>A/5 21171</td>\n",
       "      <td>7.2500</td>\n",
       "      <td>NaN</td>\n",
       "      <td>S</td>\n",
       "      <td>Mr</td>\n",
       "      <td>Unknown</td>\n",
       "      <td>0</td>\n",
       "      <td>1</td>\n",
       "      <td>1</td>\n",
       "      <td>Couple</td>\n",
       "      <td>cheap</td>\n",
       "      <td>20</td>\n",
       "    </tr>\n",
       "    <tr>\n",
       "      <th>1</th>\n",
       "      <td>2</td>\n",
       "      <td>1</td>\n",
       "      <td>1</td>\n",
       "      <td>Cumings, Mrs. John Bradley (Florence Briggs Th...</td>\n",
       "      <td>female</td>\n",
       "      <td>38.0</td>\n",
       "      <td>1</td>\n",
       "      <td>0</td>\n",
       "      <td>PC 17599</td>\n",
       "      <td>71.2833</td>\n",
       "      <td>C85</td>\n",
       "      <td>C</td>\n",
       "      <td>Mrs</td>\n",
       "      <td>C</td>\n",
       "      <td>85</td>\n",
       "      <td>1</td>\n",
       "      <td>1</td>\n",
       "      <td>Couple</td>\n",
       "      <td>middle</td>\n",
       "      <td>35</td>\n",
       "    </tr>\n",
       "    <tr>\n",
       "      <th>2</th>\n",
       "      <td>3</td>\n",
       "      <td>1</td>\n",
       "      <td>3</td>\n",
       "      <td>Heikkinen, Miss. Laina</td>\n",
       "      <td>female</td>\n",
       "      <td>26.0</td>\n",
       "      <td>0</td>\n",
       "      <td>0</td>\n",
       "      <td>STON/O2. 3101282</td>\n",
       "      <td>7.9250</td>\n",
       "      <td>NaN</td>\n",
       "      <td>S</td>\n",
       "      <td>Miss</td>\n",
       "      <td>Unknown</td>\n",
       "      <td>0</td>\n",
       "      <td>0</td>\n",
       "      <td>0</td>\n",
       "      <td>Single</td>\n",
       "      <td>cheap</td>\n",
       "      <td>25</td>\n",
       "    </tr>\n",
       "  </tbody>\n",
       "</table>\n",
       "</div>"
      ],
      "text/plain": [
       "   PassengerId  Survived  Pclass  \\\n",
       "0            1         0       3   \n",
       "1            2         1       1   \n",
       "2            3         1       3   \n",
       "\n",
       "                                                Name     Sex   Age  SibSp  \\\n",
       "0                            Braund, Mr. Owen Harris    male  22.0      1   \n",
       "1  Cumings, Mrs. John Bradley (Florence Briggs Th...  female  38.0      1   \n",
       "2                             Heikkinen, Miss. Laina  female  26.0      0   \n",
       "\n",
       "   Parch            Ticket     Fare Cabin Embarked Title Cabin_Al  Cabin_num  \\\n",
       "0      0         A/5 21171   7.2500   NaN        S    Mr  Unknown          0   \n",
       "1      0          PC 17599  71.2833   C85        C   Mrs        C         85   \n",
       "2      0  STON/O2. 3101282   7.9250   NaN        S  Miss  Unknown          0   \n",
       "\n",
       "   Famiy_size  Single  Family FareGroup  AgeGroup  \n",
       "0           1       1  Couple     cheap        20  \n",
       "1           1       1  Couple    middle        35  \n",
       "2           0       0  Single     cheap        25  "
      ]
     },
     "execution_count": 267,
     "metadata": {},
     "output_type": "execute_result"
    }
   ],
   "source": [
    "df['AgeGroup'] = df['Age'].map(lambda x: int(x/5) * 5)\n",
    "age = df.groupby(['AgeGroup'])['Survived'].mean()\n",
    "np.unique(df['Pclass'])\n",
    "df.head(3)"
   ]
  },
  {
   "cell_type": "code",
   "execution_count": 268,
   "metadata": {
    "collapsed": false
   },
   "outputs": [],
   "source": [
    "# Deal with the categorical data\n",
    "df['Sex_male'] = (df['Sex'] == 'male').astype('int')\n",
    "df['Title_Master'] = (df['Title'] == 'Master').astype('int')\n",
    "df['Title_Miss'] = (df['Title'] == 'Miss').astype('int')\n",
    "df['Title_Mr'] = (df['Title'] == 'Mr').astype('int')\n",
    "df['Title_Mrs'] = (df['Title'] == 'Mrs').astype('int')\n",
    "df['Cabin_A'] = (df['Cabin_Al'] == 'A').astype('int')\n",
    "df['Cabin_B'] = (df['Cabin_Al'] == 'B').astype('int')\n",
    "df['Cabin_C'] = (df['Cabin_Al'] == 'C').astype('int')\n",
    "df['Cabin_D'] = (df['Cabin_Al'] == 'D').astype('int')\n",
    "df['Cabin_E'] = (df['Cabin_Al'] == 'E').astype('int')\n",
    "df['Cabin_F'] = (df['Cabin_Al'] == 'F').astype('int')\n",
    "df['Cabin_G'] = (df['Cabin_Al'] == 'G').astype('int')\n",
    "df['Cabin_T'] = (df['Cabin_Al'] == 'T').astype('int')\n",
    "df['Cabin_Unknown'] = (df['Cabin_Al'] == 'Unknown').astype('int')\n",
    "df['Embarked_C'] = (df['Embarked'] == 'C').astype('int')\n",
    "df['Embarked_Q'] = (df['Embarked'] == 'Q').astype('int')\n",
    "df['Embarked_S'] = (df['Embarked'] == 'S').astype('int')\n",
    "df['Single'] = (df['Family'] == 'Single').astype('int')\n",
    "df['Couple'] = (df['Family'] == 'Couple').astype('int')\n",
    "df['SmallFamily'] = (df['Family'] == 'Small').astype('int')\n",
    "df['MedianFamily'] = (df['Family'] == 'Median').astype('int')\n",
    "df['LargeFamily'] = (df['Family'] == 'Large').astype('int')\n",
    "df['Infant'] = (df['Age'] < 1).astype('int')\n",
    "df['Elder'] = (df['Age'] > 60).astype('int')\n",
    "df['Fare_low'] = (df['FareGroup'] == 'cheap').astype('int')\n",
    "df['Fare_median'] = (df['FareGroup'] == 'middle').astype('int')\n",
    "df['Fare_high'] = (df['FareGroup'] == 'expensive').astype('int')\n",
    "df['Pclass_1'] = (df['Pclass'] == 1).astype('int')\n",
    "df['Pclass_2'] = (df['Pclass'] == 2).astype('int')\n",
    "df['Pclass_3'] = (df['Pclass'] == 3).astype('int')"
   ]
  },
  {
   "cell_type": "code",
   "execution_count": 308,
   "metadata": {
    "collapsed": false
   },
   "outputs": [
    {
     "data": {
      "text/plain": [
       "13"
      ]
     },
     "execution_count": 308,
     "metadata": {},
     "output_type": "execute_result"
    }
   ],
   "source": [
    "sum(df['LargeFamily'] == 1)"
   ]
  },
  {
   "cell_type": "code",
   "execution_count": 319,
   "metadata": {
    "collapsed": false
   },
   "outputs": [
    {
     "data": {
      "text/html": [
       "<div>\n",
       "<table border=\"1\" class=\"dataframe\">\n",
       "  <thead>\n",
       "    <tr style=\"text-align: right;\">\n",
       "      <th></th>\n",
       "      <th>Fare</th>\n",
       "      <th>Cabin_num</th>\n",
       "      <th>Single</th>\n",
       "      <th>Sex_male</th>\n",
       "      <th>Title_Master</th>\n",
       "      <th>Title_Miss</th>\n",
       "      <th>Title_Mr</th>\n",
       "      <th>Title_Mrs</th>\n",
       "      <th>Cabin_A</th>\n",
       "      <th>Cabin_B</th>\n",
       "      <th>...</th>\n",
       "      <th>MedianFamily</th>\n",
       "      <th>LargeFamily</th>\n",
       "      <th>Infant</th>\n",
       "      <th>Elder</th>\n",
       "      <th>Fare_low</th>\n",
       "      <th>Fare_median</th>\n",
       "      <th>Fare_high</th>\n",
       "      <th>Pclass_1</th>\n",
       "      <th>Pclass_2</th>\n",
       "      <th>Pclass_3</th>\n",
       "    </tr>\n",
       "  </thead>\n",
       "  <tbody>\n",
       "    <tr>\n",
       "      <th>0</th>\n",
       "      <td>7.2500</td>\n",
       "      <td>0</td>\n",
       "      <td>0</td>\n",
       "      <td>1</td>\n",
       "      <td>0</td>\n",
       "      <td>0</td>\n",
       "      <td>1</td>\n",
       "      <td>0</td>\n",
       "      <td>0</td>\n",
       "      <td>0</td>\n",
       "      <td>...</td>\n",
       "      <td>0</td>\n",
       "      <td>0</td>\n",
       "      <td>0</td>\n",
       "      <td>0</td>\n",
       "      <td>1</td>\n",
       "      <td>0</td>\n",
       "      <td>0</td>\n",
       "      <td>0</td>\n",
       "      <td>0</td>\n",
       "      <td>1</td>\n",
       "    </tr>\n",
       "    <tr>\n",
       "      <th>1</th>\n",
       "      <td>71.2833</td>\n",
       "      <td>85</td>\n",
       "      <td>0</td>\n",
       "      <td>0</td>\n",
       "      <td>0</td>\n",
       "      <td>0</td>\n",
       "      <td>0</td>\n",
       "      <td>1</td>\n",
       "      <td>0</td>\n",
       "      <td>0</td>\n",
       "      <td>...</td>\n",
       "      <td>0</td>\n",
       "      <td>0</td>\n",
       "      <td>0</td>\n",
       "      <td>0</td>\n",
       "      <td>0</td>\n",
       "      <td>1</td>\n",
       "      <td>0</td>\n",
       "      <td>1</td>\n",
       "      <td>0</td>\n",
       "      <td>0</td>\n",
       "    </tr>\n",
       "    <tr>\n",
       "      <th>2</th>\n",
       "      <td>7.9250</td>\n",
       "      <td>0</td>\n",
       "      <td>1</td>\n",
       "      <td>0</td>\n",
       "      <td>0</td>\n",
       "      <td>1</td>\n",
       "      <td>0</td>\n",
       "      <td>0</td>\n",
       "      <td>0</td>\n",
       "      <td>0</td>\n",
       "      <td>...</td>\n",
       "      <td>0</td>\n",
       "      <td>0</td>\n",
       "      <td>0</td>\n",
       "      <td>0</td>\n",
       "      <td>1</td>\n",
       "      <td>0</td>\n",
       "      <td>0</td>\n",
       "      <td>0</td>\n",
       "      <td>0</td>\n",
       "      <td>1</td>\n",
       "    </tr>\n",
       "  </tbody>\n",
       "</table>\n",
       "<p>3 rows × 32 columns</p>\n",
       "</div>"
      ],
      "text/plain": [
       "      Fare  Cabin_num  Single  Sex_male  Title_Master  Title_Miss  Title_Mr  \\\n",
       "0   7.2500          0       0         1             0           0         1   \n",
       "1  71.2833         85       0         0             0           0         0   \n",
       "2   7.9250          0       1         0             0           1         0   \n",
       "\n",
       "   Title_Mrs  Cabin_A  Cabin_B    ...     MedianFamily  LargeFamily  Infant  \\\n",
       "0          0        0        0    ...                0            0       0   \n",
       "1          1        0        0    ...                0            0       0   \n",
       "2          0        0        0    ...                0            0       0   \n",
       "\n",
       "   Elder  Fare_low  Fare_median  Fare_high  Pclass_1  Pclass_2  Pclass_3  \n",
       "0      0         1            0          0         0         0         1  \n",
       "1      0         0            1          0         1         0         0  \n",
       "2      0         1            0          0         0         0         1  \n",
       "\n",
       "[3 rows x 32 columns]"
      ]
     },
     "execution_count": 319,
     "metadata": {},
     "output_type": "execute_result"
    }
   ],
   "source": [
    "# drop the unnecessary columns\n",
    "data = df.drop(['PassengerId', 'Name', 'Ticket', 'Cabin', 'Embarked', 'Sex', 'Title', 'Cabin_Al', 'Family', 'Famiy_size',\n",
    "               'SibSp', 'Parch', 'Pclass', 'FareGroup', 'Age', 'AgeGroup', 'Survived'], axis = 1)\n",
    "response = df['Survived']\n",
    "data.head(3)"
   ]
  },
  {
   "cell_type": "code",
   "execution_count": 322,
   "metadata": {
    "collapsed": false
   },
   "outputs": [],
   "source": [
    "# perform cross validation, 5 folds\n",
    "cv_id = []\n",
    "for i in range(0, 5):\n",
    "    cv_id.extend([i] * 177)\n",
    "cv_id.extend([0] * 4) \n",
    "random.shuffle(cv_id)"
   ]
  },
  {
   "cell_type": "code",
   "execution_count": 323,
   "metadata": {
    "collapsed": false
   },
   "outputs": [
    {
     "data": {
      "text/plain": [
       "0.81360302150638319"
      ]
     },
     "execution_count": 323,
     "metadata": {},
     "output_type": "execute_result"
    }
   ],
   "source": [
    "# cross validation \n",
    "rate = []\n",
    "for i in range(0,5):\n",
    "    train_index = [index for index in range(0, len(df)) if cv_id[index] != i]\n",
    "    test_index = [index for index in range(0, len(df)) if cv_id[index] == i]\n",
    "    train = data.iloc[train_index]\n",
    "    train_response = response.iloc[train_index]\n",
    "    test = data.iloc[test_index]\n",
    "    test_response = response.iloc[test_index]\n",
    "#     clf = svm.LinearSVC(penalty='l2', loss='squared_hinge', dual=True, tol=1e-5)\n",
    "    clf = ensemble.RandomForestClassifier(n_estimators = 10)\n",
    "    clf.fit(train, train_response)\n",
    "    pred = clf.predict(test)\n",
    "    rate.append(sum(pred == test_response) / len(test_response))\n",
    "np.mean(rate)\n",
    "    \n",
    "    \n",
    "\n",
    "    "
   ]
  },
  {
   "cell_type": "code",
   "execution_count": null,
   "metadata": {
    "collapsed": false
   },
   "outputs": [],
   "source": []
  },
  {
   "cell_type": "code",
   "execution_count": null,
   "metadata": {
    "collapsed": true
   },
   "outputs": [],
   "source": []
  },
  {
   "cell_type": "code",
   "execution_count": null,
   "metadata": {
    "collapsed": true
   },
   "outputs": [],
   "source": []
  }
 ],
 "metadata": {
  "kernelspec": {
   "display_name": "Python 3",
   "language": "python",
   "name": "python3"
  },
  "language_info": {
   "codemirror_mode": {
    "name": "ipython",
    "version": 3
   },
   "file_extension": ".py",
   "mimetype": "text/x-python",
   "name": "python",
   "nbconvert_exporter": "python",
   "pygments_lexer": "ipython3",
   "version": "3.5.1"
  }
 },
 "nbformat": 4,
 "nbformat_minor": 0
}
